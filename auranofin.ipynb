{
 "cells": [
  {
   "cell_type": "markdown",
   "id": "f7808a31",
   "metadata": {},
   "source": [
    "# QM based correction of auranofin MM potential\n",
    "\n",
    "This work is application of the force field correction technique published in https://doi.org/10.1021/acs.jcim.1c00651 on auranofin.\n",
    "The QM methods were updated (mostly to handl gold properly) according to https://pubs.acs.org/doi/full/10.1021/ct400980w (thanks, M.Krupička).\n",
    "The computational protocol is:\n",
    "* Identify twistable torsions in the molecule\n",
    "* Run replica exchange metadynamics, each replica having one of the torsions as its CV; this is believed to make quick, exhaustive, and reasonably realistic sampling of the conformational space\n",
    "* Cluster the resulting trajectories to end up with at most few dozens of representative samples\n",
    "* Run QM geometry optimization of all these samples while keeping the twistable torsions constrained\n",
    "* Record final single point energies of the results\n",
    "* Further relax the structures (with constrained torsions) in MM and record the energies\n",
    "* The difference of the QM and MM energies can be used to add bias potential to MD (e.g. with https://www.plumed.org/doc-v2.8/user-doc/html/_p_r_o_p_e_r_t_y_m_a_p.html, based on https://doi.org/10.1063/1.3660208) to get a more realistic potential\n",
    "\n",
    "The whole calculation is implemented in a fork of PMCVFF service: \n",
    "https://gitlab.ics.muni.cz/3086/magicforcefield-pipeline/-/blob/auranofin/auranofin.ipynb\n",
    "and it requires the environment (e.g. https://pmcvff-correction.cerit-sc.cz) up and running.\n",
    "\n",
    "This notebooks visualizes the resulting structures and gives elemetary insight to the energies.\n",
    "Right now it is based on intermediate results (QM optimization of all the clusters has not converged) therefore it is illustrative only.\n",
    "\n",
    "\n"
   ]
  },
  {
   "cell_type": "code",
   "execution_count": null,
   "id": "f27e086c",
   "metadata": {},
   "outputs": [],
   "source": [
    "import mdtraj as md\n",
    "import nglview as nv\n",
    "import numpy as np\n",
    "import os\n",
    "import matplotlib.pyplot as plt"
   ]
  },
  {
   "cell_type": "code",
   "execution_count": null,
   "id": "e777c729",
   "metadata": {},
   "outputs": [],
   "source": [
    "# energies extracted from Orca/b2plyp calculation\n",
    "# normalized to start from zero\n",
    "\n",
    "b2plyp = {'outCluster11': 8.59025738733933,\n",
    " 'outCluster12': 21.37990892940907,\n",
    " 'outCluster8': 352.5826396459286,\n",
    " 'outCluster26': 56.19611285873913,\n",
    " 'outCluster4': 13.322411100455696,\n",
    " 'outCluster15': 0.0,\n",
    " 'outCluster1': 35.1602939508531,\n",
    " 'outCluster22': 99.99590873653148,\n",
    " 'outCluster17': 29.84600896256199,\n",
    " 'outCluster7': 67.74622991454132,\n",
    " 'outCluster20': 15.910550934496172,\n",
    " 'outCluster24': 23.177356136004796,\n",
    " 'outCluster23': 26.92110944118104,\n",
    " 'outCluster2': 29.16100594583887,\n",
    " 'outCluster27': 144.7391352797871,\n",
    " 'outCluster14': 47.20687778861149,\n",
    " 'outCluster18': 12.632784324504971}"
   ]
  },
  {
   "cell_type": "code",
   "execution_count": null,
   "id": "40f14910",
   "metadata": {},
   "outputs": [],
   "source": [
    "# energies of the output of b2plyp after constrained relaxation in MM \n",
    "\n",
    "mm = {'outCluster11': 1962.906875,\n",
    " 'outCluster12': 1320.348037,\n",
    " 'outCluster8': 1766.802993,\n",
    " 'outCluster26': 885.243545,\n",
    " 'outCluster4': 680.751907,\n",
    " 'outCluster15': 682.627334,\n",
    " 'outCluster1': 741.457229,\n",
    " 'outCluster22': 912.0929100000001,\n",
    " 'outCluster17': 13.167816000000016,\n",
    " 'outCluster7': 552.935501,\n",
    " 'outCluster20': 1610.843277,\n",
    " 'outCluster24': 611.733535,\n",
    " 'outCluster23': 488.26771499999995,\n",
    " 'outCluster2': 1107.932876,\n",
    " 'outCluster27': 39.378615999999994,\n",
    " 'outCluster14': 1152.737808,\n",
    " 'outCluster18': 0.0}"
   ]
  },
  {
   "cell_type": "code",
   "execution_count": null,
   "id": "cfd44a60",
   "metadata": {},
   "outputs": [],
   "source": [
    "# energy deltas of the MM constrained relaxation\n",
    "\n",
    "mmdelta = dict()\n",
    "for c in mm.keys():\n",
    "    xvg = np.loadtxt(f'{c}.xvg',comments=list('@#'))\n",
    "    mmdelta[c] = xvg[-1,1]-xvg[0,1]\n",
    "mmdelta"
   ]
  },
  {
   "cell_type": "code",
   "execution_count": null,
   "id": "d1dd4dda",
   "metadata": {},
   "outputs": [],
   "source": []
  },
  {
   "cell_type": "code",
   "execution_count": null,
   "id": "7e304912",
   "metadata": {},
   "outputs": [],
   "source": [
    "\"\"\"\n",
    "Align (on the C-S-Au-P torsion) and display the structures\n",
    "\n",
    "Coloring:\n",
    "    - yellow: input structure for b2plyp optimization\n",
    "    - blue: output of b2plyp optimization\n",
    "    - green: further constrained relaxation in MM\n",
    "\"\"\"\n",
    "\n",
    "trs_cl, trs_qm, trs_mm = [],[],[]\n",
    "ref = md.load_pdb('outCluster0.pdb')\n",
    "\n",
    "rmsd_clqm, rmsd_qmmm = [],[]\n",
    "\n",
    "idx = [9,10,43,51]\n",
    "\n",
    "for c in mm.keys():\n",
    "    trqm = md.load(f'{c}_opt.pdb')\n",
    "    trcl = md.load(f'{c}.pdb')\n",
    "    trmm = md.load(f'{c}_after_em1.gro')\n",
    "    \n",
    "    rmsd_clqm.append(md.rmsd(trqm,trcl[0])[0])\n",
    "    rmsd_qmmm.append(md.rmsd(trmm,trqm[0])[0])\n",
    "    \n",
    "    trqm.superpose(ref,atom_indices=idx)\n",
    "    trs_qm.append(trqm)\n",
    "    trcl.superpose(ref,atom_indices=idx)\n",
    "    trs_cl.append(trcl)\n",
    "    trmm.superpose(ref,atom_indices=idx)\n",
    "    trs_mm.append(trmm)\n",
    "    \n",
    "\n",
    "    \n",
    "trqm = md.join(trs_qm)\n",
    "trcl = md.join(trs_cl)\n",
    "trmm = md.join(trs_mm)"
   ]
  },
  {
   "cell_type": "code",
   "execution_count": null,
   "id": "4bbaf621",
   "metadata": {},
   "outputs": [],
   "source": [
    "\n",
    "r=.5\n",
    "v = nv.NGLWidget()\n",
    "v.clear()\n",
    "\n",
    "cqm = v.add_trajectory(trqm)\n",
    "cqm.clear()\n",
    "cqm.add_licorice(color = 'blue')\n",
    "cqm.add_representation('spacefill',selection=[10,43,51],radius=r)\n",
    "\n",
    "ccl = v.add_trajectory(trcl)\n",
    "ccl.clear()\n",
    "ccl.add_licorice(color = 'yellow')\n",
    "ccl.add_representation('spacefill',selection=[10,43,51],radius=r)\n",
    "\n",
    "cmm = v.add_trajectory(trmm)\n",
    "cmm.clear()\n",
    "cmm.add_licorice(color = 'green')\n",
    "cmm.add_representation('spacefill',selection=[10,43,51],radius=r)\n",
    "\n",
    "\n",
    "v"
   ]
  },
  {
   "cell_type": "code",
   "execution_count": null,
   "id": "4e5e2d34",
   "metadata": {},
   "outputs": [],
   "source": [
    "plt.figure(figsize=(10,4))\n",
    "plt.plot(b2plyp.values(),label='b2plyp')\n",
    "plt.plot(np.array(list(mm.values()))-np.array(list(mmdelta.values())),label='mm after b2plyp')\n",
    "plt.plot(mm.values(),label='mm final')\n",
    "plt.ylabel('kJ/mol')\n",
    "plt.xlabel('conformation')\n",
    "plt.xticks(range(len(mm)),labels=[ f'{k} : {v}' for k,v in enumerate(mm.keys())],rotation=60)\n",
    "plt.legend()\n",
    "plt.show()"
   ]
  },
  {
   "cell_type": "code",
   "execution_count": null,
   "id": "2b61ef65",
   "metadata": {},
   "outputs": [],
   "source": [
    "plt.figure(figsize=(10,4))\n",
    "plt.plot(rmsd_clqm,label='RMSD between b2plyp input-output')\n",
    "plt.plot(rmsd_qmmm,label='RMSD between MM relaxation input-output')\n",
    "plt.ylabel('A')\n",
    "plt.xlabel('conformation')\n",
    "plt.xticks(range(len(mm)),labels=[ f'{k} : {v}' for k,v in enumerate(mm.keys())],rotation=60)\n",
    "plt.legend()\n",
    "plt.show()"
   ]
  },
  {
   "cell_type": "code",
   "execution_count": null,
   "id": "d612305f",
   "metadata": {},
   "outputs": [],
   "source": []
  }
 ],
 "metadata": {
  "kernelspec": {
   "display_name": "Python 3 (ipykernel)",
   "language": "python",
   "name": "python3"
  },
  "language_info": {
   "codemirror_mode": {
    "name": "ipython",
    "version": 3
   },
   "file_extension": ".py",
   "mimetype": "text/x-python",
   "name": "python",
   "nbconvert_exporter": "python",
   "pygments_lexer": "ipython3",
   "version": "3.10.6"
  }
 },
 "nbformat": 4,
 "nbformat_minor": 5
}
